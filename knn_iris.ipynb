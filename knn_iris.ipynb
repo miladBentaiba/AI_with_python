{
 "cells": [
  {
   "cell_type": "code",
   "execution_count": 5,
   "metadata": {},
   "outputs": [
    {
     "data": {
      "text/html": [
       "<div>\n",
       "<style scoped>\n",
       "    .dataframe tbody tr th:only-of-type {\n",
       "        vertical-align: middle;\n",
       "    }\n",
       "\n",
       "    .dataframe tbody tr th {\n",
       "        vertical-align: top;\n",
       "    }\n",
       "\n",
       "    .dataframe thead th {\n",
       "        text-align: right;\n",
       "    }\n",
       "</style>\n",
       "<table border=\"1\" class=\"dataframe\">\n",
       "  <thead>\n",
       "    <tr style=\"text-align: right;\">\n",
       "      <th></th>\n",
       "      <th>sepal_length</th>\n",
       "      <th>sepal_width</th>\n",
       "      <th>petal_length</th>\n",
       "      <th>petal_width</th>\n",
       "      <th>species</th>\n",
       "    </tr>\n",
       "  </thead>\n",
       "  <tbody>\n",
       "    <tr>\n",
       "      <th>0</th>\n",
       "      <td>5.1</td>\n",
       "      <td>3.5</td>\n",
       "      <td>1.4</td>\n",
       "      <td>0.2</td>\n",
       "      <td>Iris-setosa</td>\n",
       "    </tr>\n",
       "    <tr>\n",
       "      <th>1</th>\n",
       "      <td>4.9</td>\n",
       "      <td>3.0</td>\n",
       "      <td>1.4</td>\n",
       "      <td>0.2</td>\n",
       "      <td>Iris-setosa</td>\n",
       "    </tr>\n",
       "    <tr>\n",
       "      <th>2</th>\n",
       "      <td>4.7</td>\n",
       "      <td>3.2</td>\n",
       "      <td>1.3</td>\n",
       "      <td>0.2</td>\n",
       "      <td>Iris-setosa</td>\n",
       "    </tr>\n",
       "    <tr>\n",
       "      <th>3</th>\n",
       "      <td>4.6</td>\n",
       "      <td>3.1</td>\n",
       "      <td>1.5</td>\n",
       "      <td>0.2</td>\n",
       "      <td>Iris-setosa</td>\n",
       "    </tr>\n",
       "    <tr>\n",
       "      <th>4</th>\n",
       "      <td>5.0</td>\n",
       "      <td>3.6</td>\n",
       "      <td>1.4</td>\n",
       "      <td>0.2</td>\n",
       "      <td>Iris-setosa</td>\n",
       "    </tr>\n",
       "  </tbody>\n",
       "</table>\n",
       "</div>"
      ],
      "text/plain": [
       "   sepal_length  sepal_width  petal_length  petal_width      species\n",
       "0           5.1          3.5           1.4          0.2  Iris-setosa\n",
       "1           4.9          3.0           1.4          0.2  Iris-setosa\n",
       "2           4.7          3.2           1.3          0.2  Iris-setosa\n",
       "3           4.6          3.1           1.5          0.2  Iris-setosa\n",
       "4           5.0          3.6           1.4          0.2  Iris-setosa"
      ]
     },
     "execution_count": 5,
     "metadata": {},
     "output_type": "execute_result"
    }
   ],
   "source": [
    "#Handle Data: Open the dataset from CSV and split into test/train datasets.\n",
    "\n",
    "#Similarity: Calculate the distance between two data instances.\n",
    "\n",
    "#Neighbors: Locate k most similar data instances.\n",
    "\n",
    "#Response: Generate a response from a set of data instances.\n",
    "\n",
    "#Accuracy: Summarize the accuracy of predictions.\n",
    "\n",
    "#Main: Tie it all together."
   ]
  },
  {
   "cell_type": "code",
   "execution_count": 7,
   "metadata": {},
   "outputs": [],
   "source": [
    "#names=['sepal_length','sepal_width', 'petal_length', 'petal_width','species'])"
   ]
  },
  {
   "cell_type": "code",
   "execution_count": 23,
   "metadata": {},
   "outputs": [
    {
     "name": "stdout",
     "output_type": "stream",
     "text": [
      "Train: 98\n",
      "Test: 51\n"
     ]
    }
   ],
   "source": [
    "#1. Handle Data\n",
    "\n",
    "#The first thing we need to do is load our data file. \n",
    "#import csv\n",
    "#with open('iris.data.txt', 'r') as csvfile:\n",
    "#    lines = csv.reader(csvfile)\n",
    "#    for row in lines :\n",
    "#        print (', '.join(row))\n",
    "\n",
    "#Next we need to split the data into a training dataset \n",
    "\n",
    "import csv\n",
    "import random\n",
    "def loadDataset(filename, split, trainingSet=[] , testSet=[]):\n",
    "    with open(filename, 'r') as csvfile:\n",
    "        lines = csv.reader(csvfile)\n",
    "        dataset = list(lines)\n",
    "        for x in range(len(dataset)-1):\n",
    "            for y in range(4):\n",
    "                dataset[x][y] = float(dataset[x][y])\n",
    "            if random.random() < split:\n",
    "                trainingSet.append(dataset[x])\n",
    "            else:\n",
    "                testSet.append(dataset[x])\n",
    "            \n",
    "#We can test this function out with our iris dataset, as follows:\n",
    "\n",
    "trainingSet=[]\n",
    "testSet=[]\n",
    "loadDataset('iris.data.txt', 0.66, trainingSet, testSet)\n",
    "print ('Train: ' + repr(len(trainingSet)))\n",
    "print ('Test: ' + repr(len(testSet)) )"
   ]
  },
  {
   "cell_type": "code",
   "execution_count": 25,
   "metadata": {},
   "outputs": [
    {
     "name": "stdout",
     "output_type": "stream",
     "text": [
      "Distance: 3.4641016151377544\n"
     ]
    }
   ],
   "source": [
    "#2. Similarity\n",
    "\n",
    "#In order to make predictions we need to calculate the similarity between any two given data instances. \n",
    "#This is needed so that we can locate the k most similar data instances in the training dataset for a given member \n",
    "#of the test dataset and in turn make a prediction.\n",
    "\n",
    "#Given that all four flower measurements are numeric and have the same units, \n",
    "#we can directly use the Euclidean distance measure. \n",
    "\n",
    "#Additionally, we want to control which fields to include in the distance calculation. \n",
    "#Specifically, we only want to include the first 4 attributes. \n",
    "#One approach is to limit the Euclidean distance to a fixed length, ignoring the final dimension.\n",
    "\n",
    "#Putting all of this together, you have to define the euclidean distance\n",
    "\n",
    "import math\n",
    "def euclideanDistance(instance1, instance2, length):\n",
    "    euc = 0\n",
    "    for i in range(length):\n",
    "        euc+=(instance1[i]-instance2[i])**2\n",
    "    return math.sqrt(euc)\n",
    "\n",
    "#number of elements in the instance1 =number of elements in the instance2 \n",
    "#the length refers to the number of elements in the instance1 \n",
    "#We can test this function with some sample data, as follows:\n",
    "data1 = [2, 2, 2, 'a']\n",
    "data2 = [4, 4, 4, 'b']\n",
    "distance = euclideanDistance(data1, data2, 3)\n",
    "print ('Distance: ' + repr(distance))"
   ]
  },
  {
   "cell_type": "code",
   "execution_count": 71,
   "metadata": {},
   "outputs": [
    {
     "name": "stdout",
     "output_type": "stream",
     "text": [
      "[[4, 4, 4, 'b']]\n"
     ]
    }
   ],
   "source": [
    "#3. Neighbors\n",
    "\n",
    "#Now that we have a similarity measure, we can use it to collect the k most similar instances for a given unseen instance.\n",
    "#This is a straight forward process of calculating the distance for all instances \n",
    "#and selecting a subset with the smallest distance values.\n",
    "\n",
    "#Below is the getNeighbors function that returns k most similar neighbors from the training set for a given test instance\n",
    "#(using the already defined euclideanDistance function)\n",
    "import operator\n",
    "def getNeighbors(trainingSet, testInstance, k, func):\n",
    "    distances = []\n",
    "    length = len(testInstance)-1\n",
    "    for x in range(len(trainingSet)):\n",
    "        dist = func(testInstance, trainingSet[x], length)\n",
    "        distances.append((trainingSet[x], dist))\n",
    "    distances.sort(key=operator.itemgetter(1))\n",
    "    neighbors = []\n",
    "    for x in range(k):\n",
    "        neighbors.append(distances[x][0])\n",
    "    return neighbors\n",
    "\n",
    "#We can test out this function as follows:\n",
    "trainSet = [[2, 2, 2, 'a'], [4, 4, 4, 'b']]\n",
    "testInstance = [5, 5, 5]\n",
    "k = 1\n",
    "neighbors = getNeighbors(trainSet, testInstance, 1, euclideanDistance)\n",
    "print(neighbors)"
   ]
  },
  {
   "cell_type": "code",
   "execution_count": 55,
   "metadata": {},
   "outputs": [
    {
     "name": "stdout",
     "output_type": "stream",
     "text": [
      "a\n"
     ]
    }
   ],
   "source": [
    "#4. Response\n",
    "\n",
    "#Once we have located the most similar neighbors for a test instance, the next task is to devise a predicted response based \n",
    "#on those neighbors.\n",
    "\n",
    "#We can do this by allowing each neighbor to vote for their class attribute, and take the majority vote as the prediction.\n",
    "\n",
    "#Below provides a function for getting the majority voted response from a number of neighbors. \n",
    "#It assumes the class is the last attribute for each neighbor.\n",
    "\n",
    "import operator\n",
    "def getResponse(neighbors):\n",
    "    classVotes = {}\n",
    "    for x in range(len(neighbors)):\n",
    "        response = neighbors[x][ -1 ] #complete with appropriate number\n",
    "        classVotes[response]=classVotes.get(response, 0) + 1\n",
    "    sortedVotes = sorted(classVotes.items(), key=operator.itemgetter(1), reverse=True)\n",
    "    return sortedVotes[0][0]\n",
    "\n",
    "#We can test out this function with some test neighbors, as follows:\n",
    "neighbors = [[1,1,1,'a'], [2,2,2,'a'], [3,3,3,'b']]\n",
    "response = getResponse(neighbors)\n",
    "print(response)\n",
    "\n",
    "#This approach returns one response in the case of a draw, \n",
    "#but you could handle such cases in a specific way, such as returning no response or selecting an unbiased random response."
   ]
  },
  {
   "cell_type": "code",
   "execution_count": 70,
   "metadata": {},
   "outputs": [
    {
     "name": "stdout",
     "output_type": "stream",
     "text": [
      "66.66666666666666\n"
     ]
    }
   ],
   "source": [
    "#5. Accuracy\n",
    "\n",
    "#We have all of the pieces of the kNN algorithm in place. An important remaining concern is how to evaluate \n",
    "#the accuracy of predictions.\n",
    "\n",
    "#An easy way to evaluate the accuracy of the model is to calculate a ratio of the total correct predictions \n",
    "#out of all predictions made, called the classification accuracy.\n",
    "\n",
    "#Below is the getAccuracy function that sums the total correct predictions and returns the accuracy as a percentage \n",
    "#of correct classifications.\n",
    "def getAccuracy(testSet, predictions):\n",
    "    correct=0\n",
    "    for i in range(len(testSet)):\n",
    "        correct+= (testSet[i][-1]==predictions[i][-1]) \n",
    "    return (correct/float(len(testSet))) * 100.0\n",
    "\n",
    "#We can test this function with a test dataset and predictions, as follows:\n",
    "\n",
    "testSet = [[1,1,1,'a'], [2,2,2,'a'], [3,3,3,'b']]\n",
    "predictions = ['a', 'a', 'a']\n",
    "accuracy = getAccuracy(testSet, predictions)\n",
    "print(accuracy)"
   ]
  },
  {
   "cell_type": "code",
   "execution_count": 79,
   "metadata": {},
   "outputs": [
    {
     "name": "stdout",
     "output_type": "stream",
     "text": [
      "93.61702127659575 %\n"
     ]
    }
   ],
   "source": [
    "#6. Main\n",
    "\n",
    "#We now have all the elements of the algorithm you can put them all in one main function\n",
    "trainingSet=[]\n",
    "testSet=[]\n",
    "loadDataset('iris.data.txt', 0.66, trainingSet, testSet)\n",
    "neighbors=[]\n",
    "for testInstance in testSet:\n",
    "    neighbors.append(getNeighbors(trainingSet, testInstance, 3, euclideanDistance))\n",
    "        \n",
    "responses=[]\n",
    "for i in range(len(neighbors)):\n",
    "    responses.append(getResponse(neighbors[i]))\n",
    "        \n",
    "accuracy = getAccuracy([row[-1] for row in testSet], responses)\n",
    "print(accuracy,\"%\")"
   ]
  },
  {
   "cell_type": "code",
   "execution_count": null,
   "metadata": {},
   "outputs": [],
   "source": []
  }
 ],
 "metadata": {
  "kernelspec": {
   "display_name": "Python 3",
   "language": "python",
   "name": "python3"
  },
  "language_info": {
   "codemirror_mode": {
    "name": "ipython",
    "version": 3
   },
   "file_extension": ".py",
   "mimetype": "text/x-python",
   "name": "python",
   "nbconvert_exporter": "python",
   "pygments_lexer": "ipython3",
   "version": "3.8.3"
  }
 },
 "nbformat": 4,
 "nbformat_minor": 4
}
