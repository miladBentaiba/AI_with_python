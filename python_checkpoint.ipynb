{
 "cells": [
  {
   "cell_type": "code",
   "execution_count": 28,
   "metadata": {},
   "outputs": [
    {
     "data": {
      "text/plain": [
       "[2002,\n",
       " 2009,\n",
       " 2016,\n",
       " 2023,\n",
       " 2037,\n",
       " 2044,\n",
       " 2051,\n",
       " 2058,\n",
       " 2072,\n",
       " 2079,\n",
       " 2086,\n",
       " 2093,\n",
       " 2107,\n",
       " 2114,\n",
       " 2121,\n",
       " 2128,\n",
       " 2142,\n",
       " 2149,\n",
       " 2156,\n",
       " 2163,\n",
       " 2177,\n",
       " 2184,\n",
       " 2191,\n",
       " 2198,\n",
       " 2212,\n",
       " 2219,\n",
       " 2226,\n",
       " 2233,\n",
       " 2247,\n",
       " 2254,\n",
       " 2261,\n",
       " 2268,\n",
       " 2282,\n",
       " 2289,\n",
       " 2296,\n",
       " 2303,\n",
       " 2317,\n",
       " 2324,\n",
       " 2331,\n",
       " 2338,\n",
       " 2352,\n",
       " 2359,\n",
       " 2366,\n",
       " 2373,\n",
       " 2387,\n",
       " 2394,\n",
       " 2401,\n",
       " 2408,\n",
       " 2422,\n",
       " 2429,\n",
       " 2436,\n",
       " 2443,\n",
       " 2457,\n",
       " 2464,\n",
       " 2471,\n",
       " 2478,\n",
       " 2492,\n",
       " 2499,\n",
       " 2506,\n",
       " 2513,\n",
       " 2527,\n",
       " 2534,\n",
       " 2541,\n",
       " 2548,\n",
       " 2562,\n",
       " 2569,\n",
       " 2576,\n",
       " 2583,\n",
       " 2597,\n",
       " 2604,\n",
       " 2611,\n",
       " 2618,\n",
       " 2632,\n",
       " 2639,\n",
       " 2646,\n",
       " 2653,\n",
       " 2667,\n",
       " 2674,\n",
       " 2681,\n",
       " 2688,\n",
       " 2702,\n",
       " 2709,\n",
       " 2716,\n",
       " 2723,\n",
       " 2737,\n",
       " 2744,\n",
       " 2751,\n",
       " 2758,\n",
       " 2772,\n",
       " 2779,\n",
       " 2786,\n",
       " 2793,\n",
       " 2807,\n",
       " 2814,\n",
       " 2821,\n",
       " 2828,\n",
       " 2842,\n",
       " 2849,\n",
       " 2856,\n",
       " 2863,\n",
       " 2877,\n",
       " 2884,\n",
       " 2891,\n",
       " 2898,\n",
       " 2912,\n",
       " 2919,\n",
       " 2926,\n",
       " 2933,\n",
       " 2947,\n",
       " 2954,\n",
       " 2961,\n",
       " 2968,\n",
       " 2982,\n",
       " 2989,\n",
       " 2996,\n",
       " 3003,\n",
       " 3017,\n",
       " 3024,\n",
       " 3031,\n",
       " 3038,\n",
       " 3052,\n",
       " 3059,\n",
       " 3066,\n",
       " 3073,\n",
       " 3087,\n",
       " 3094,\n",
       " 3101,\n",
       " 3108,\n",
       " 3122,\n",
       " 3129,\n",
       " 3136,\n",
       " 3143,\n",
       " 3157,\n",
       " 3164,\n",
       " 3171,\n",
       " 3178,\n",
       " 3192,\n",
       " 3199]"
      ]
     },
     "execution_count": 28,
     "metadata": {},
     "output_type": "execute_result"
    }
   ],
   "source": [
    "#q1 Write a program which will find all such numbers which are divisible by 7 \n",
    "#but are not a multiple of 5, between 2000 and 3200 (both included). \n",
    "#The numbers obtained should be printed in a list.\n",
    "\n",
    "l=[] \n",
    "for i in range(2000, 3201, 1):\n",
    "    l.append(i) if (not i%7 and i%5) else None\n",
    "l"
   ]
  },
  {
   "cell_type": "code",
   "execution_count": 46,
   "metadata": {},
   "outputs": [
    {
     "name": "stdout",
     "output_type": "stream",
     "text": [
      "3\n"
     ]
    },
    {
     "data": {
      "text/plain": [
       "[1, 1, 2, 6]"
      ]
     },
     "execution_count": 46,
     "metadata": {},
     "output_type": "execute_result"
    }
   ],
   "source": [
    "#q2 Write a program which can compute the factorial of a given number. \n",
    "#(the factorial of n is the product of all positive integers less than or equal to n). \n",
    "#for example factorial(5)= 5 x 4 x 3 x 2 x 1 the result is 120.  (i.e. factorial (0)=1)\n",
    "n=int(input())\n",
    "x=1\n",
    "factoriels=[x]\n",
    "for i in range(1, n+1, 1):\n",
    "    x=x*i\n",
    "    factoriels.append(x)\n",
    "factoriels"
   ]
  },
  {
   "cell_type": "code",
   "execution_count": 51,
   "metadata": {},
   "outputs": [
    {
     "name": "stdout",
     "output_type": "stream",
     "text": [
      "8\n"
     ]
    },
    {
     "data": {
      "text/plain": [
       "{1: 1, 2: 4, 3: 9, 4: 16, 5: 25, 6: 36, 7: 49, 8: 64}"
      ]
     },
     "execution_count": 51,
     "metadata": {},
     "output_type": "execute_result"
    }
   ],
   "source": [
    "#q3 With a given integer number n, write a program to generate a dictionary that contains \n",
    "#(i, i*i) such that is an integral number between 1 and n (both included). \n",
    "# and then the program should print the dictionary. \n",
    "#Suppose the following input is supplied to the program: 8 Then, \n",
    "#the output should be: {1: 1, 2: 4, 3: 9, 4: 16, 5: 25, 6: 36, 7: 49, 8: 64}  \n",
    "n=int(input())\n",
    "d = {}\n",
    "for i in range(1, n+1, 1):\n",
    "    d[i]=i*i\n",
    "d"
   ]
  },
  {
   "cell_type": "code",
   "execution_count": 66,
   "metadata": {},
   "outputs": [
    {
     "data": {
      "text/plain": [
       "'kittn'"
      ]
     },
     "execution_count": 66,
     "metadata": {},
     "output_type": "execute_result"
    }
   ],
   "source": [
    "#q4 Given a non-empty string and an int n, return a new string where the char at index n has been removed. \n",
    "#The value of n will be a valid index of a char in the original string (i.e. n will be in the range 0..len(str)-1 inclusive). \n",
    "#missing_char('kitten', 1) → 'ktten'    for example here we remove \"i\" which is located in the index 1\n",
    "#missing_char('kitten', 0) → 'itten'   here we remove \"k\" which is in the index 0\n",
    "#missing_char('kitten', 4) → 'kittn'   here we remove \"e\" which is in the index 4\n",
    "def missing_char(string, n):\n",
    "    l=list(string)\n",
    "    del l[n]\n",
    "    return ''.join(l)\n",
    "missing_char('kitten', 1)\n",
    "missing_char('kitten', 0)\n",
    "missing_char('kitten', 4)"
   ]
  },
  {
   "cell_type": "code",
   "execution_count": 72,
   "metadata": {},
   "outputs": [
    {
     "data": {
      "text/plain": [
       "[1.287593262622186, -0.6851259888224344, 1.178439394813504]"
      ]
     },
     "execution_count": 72,
     "metadata": {},
     "output_type": "execute_result"
    }
   ],
   "source": [
    "#q5 Write a NumPy program to convert a NumPy array into a Python list structure.\n",
    "#Expected Output: \n",
    "#Original array elements: [[0 1] [2 3] [4 5]] \n",
    "#Array to list: [[0, 1], [2, 3], [4, 5]] \n",
    "#Hint: we can use the to_list() function to ensure the conversion\n",
    "import pandas as pd  \n",
    "import numpy as np\n",
    "data = pd.DataFrame(np.random.randn(3,4), columns=list(\"abcd\"))\n",
    "data['a'].to_list()"
   ]
  },
  {
   "cell_type": "code",
   "execution_count": 76,
   "metadata": {},
   "outputs": [
    {
     "data": {
      "text/plain": [
       "array([[ 1., -1.],\n",
       "       [-1.,  1.]])"
      ]
     },
     "execution_count": 76,
     "metadata": {},
     "output_type": "execute_result"
    }
   ],
   "source": [
    "#q6 Write a NumPy program to compute the covariance matrix of two given arrays. \n",
    "#Original array1: [0 1 2] \n",
    "#Original array2: [2 1 0] \n",
    "#Covariance matrix of the said arrays: [[ 1. -1.] [-1. 1.]]\n",
    "#Hint: We can use the np.cov() function to calculate the covariance between these two arrays\n",
    "a1=np.array([0,1,2])\n",
    "a2=np.array([2,1,0])\n",
    "np.cov(a1, a2)"
   ]
  },
  {
   "cell_type": "code",
   "execution_count": 91,
   "metadata": {},
   "outputs": [
    {
     "name": "stdout",
     "output_type": "stream",
     "text": [
      "100,150,180\n",
      "[18, 22, 24]\n"
     ]
    }
   ],
   "source": [
    "#q7 Write a program that calculates and prints the value according to the given formula: Q = Square root of [(2 * C * D)/H] \n",
    "#Following are the fixed values of C and H: C is 50. H is 30. \n",
    "#D is the variable whose values should be input to your program in a comma-separated sequence. (that means D contains more than value)\n",
    "#Example Let's assume the following comma separated input sequence is given to the program: 100,150,180 \n",
    "#The output of the program should be: 18,22,24 \n",
    "#To more understand we will obtain a result for each value of D:  \n",
    "#Q1= Square root of [(2 * C * 100)/H] =18, Q2= Square root of [(2 * C * 150)/H] = 22 \n",
    "#and Q3 = Square root of [(2 * C * 180)/H]  = 24\n",
    "#Hints: If the output received is in decimal form, \n",
    "#it should be rounded off to its nearest value (for example, if the output received is 26.0, \n",
    "#it should be printed as 26) In case of input data being supplied to the question, it should be assumed to be a console input.\n",
    "import math\n",
    "C=50\n",
    "H=30\n",
    "D=input().split(',')\n",
    "D\n",
    "def q(d):\n",
    "    return round(math.sqrt((2*C*int(d))/H))\n",
    "q(100)\n",
    "res = map(q, D) \n",
    "print(list(res))"
   ]
  },
  {
   "cell_type": "code",
   "execution_count": null,
   "metadata": {},
   "outputs": [],
   "source": []
  }
 ],
 "metadata": {
  "kernelspec": {
   "display_name": "Python 3",
   "language": "python",
   "name": "python3"
  },
  "language_info": {
   "codemirror_mode": {
    "name": "ipython",
    "version": 3
   },
   "file_extension": ".py",
   "mimetype": "text/x-python",
   "name": "python",
   "nbconvert_exporter": "python",
   "pygments_lexer": "ipython3",
   "version": "3.8.3"
  }
 },
 "nbformat": 4,
 "nbformat_minor": 4
}
